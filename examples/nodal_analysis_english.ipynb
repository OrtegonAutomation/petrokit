{
  "cells": [
    {
      "cell_type": "markdown",
      "metadata": {},
      "source": [
        "# PetroKit \u2014 Technical Nodal Analysis Notebook\n",
        "\n",
        "**Advanced, reproducible and auditable notebook** for nodal analysis, intended for engineering review, verification and integration into workflows.  \n",
        "\n",
        "This notebook contains:  \n",
        "- Rigorous explanation of the physics used in the Fase\u20111 implementation.  \n",
        "- Detailed parameter tables and unit conventions.  \n",
        "- Verified code blocks that call `petrokit` modules (IPR, VLP, Flowline, Nodal).  \n",
        "- Sensitivity studies, error handling and edge\u2011case checks.  \n",
        "- Export of results and reproducible figures for reports.  \n",
        "\n",
        "Use this notebook as a technical deliverable to accompany the PetroKit package (v0.1.0)."
      ]
    },
    {
      "cell_type": "markdown",
      "metadata": {},
      "source": [
        "----\n",
        "## Table of contents\n",
        "\n",
        "1. [Assumptions and unit system](#assumptions)\n",
        "2. [Physical background & equations](#physics)\n",
        "3. [Quick sanity checks and helper wrappers]\n",
        "4. [IPR validation and plots]\n",
        "5. [VLP (tubing) validation and plots]\n",
        "6. [Flowline (surface) validation and plots]\n",
        "7. [Nodal analysis \u2014 intersection and robust root finding]\n",
        "8. [Sensitivity studies & parametric sweeps]\n",
        "9. [Export results & figures]\n",
        "----\n"
      ]
    },
    {
      "cell_type": "markdown",
      "metadata": {},
      "source": [
        "### 1. Assumptions and unit system {#assumptions}\n",
        "\n",
        "**Unit convention used throughout this notebook** (documented explicitly to avoid errors):\n",
        "- Pressure: **psi** (internal functions expect psi unless otherwise noted).  \n",
        "- Volume: **STB/day** for production rates.  \n",
        "- Length: **ft**.  \n",
        "- Diameter: **in** (when passing to petrokit functions that expect inches).  \n",
        "- Density: **lb/ft\u00b3**.  \n",
        "- Viscosity: **cP**.\n",
        "\n",
        "Key assumptions in Fase\u20111 models:  \n",
        "- Monophasic flow for VLP and flowline (no slip, no phase\u2011fraction models).  \n",
        "- Darcy\u2013Weisbach with constant friction factor `f` (default = 0.02).  \n",
        "- Vogel IPR for solution\u2011gas drive reservoirs.  \n",
        "\n",
        "Whenever a function returns values in SI, we convert explicitly back to engineering units for display."
      ]
    },
    {
      "cell_type": "markdown",
      "metadata": {},
      "source": [
        "### 2. Physical background & equations {#physics}\n",
        "\n",
        "**IPR (Vogel)** \u2014 implemented form:\n",
        "\\[ q = q_{max} \\left( 1 - 0.2 \\frac{p_{wf}}{p_{res}} - 0.8 \\left(\\frac{p_{wf}}{p_{res}}\\right)^2 \\right) \\]\n",
        "\n",
        "**Fetkovich (linear)**:\n",
        "\\[ q = J \\, (p_{res} - p_{wf}) \\]\n",
        "\n",
        "**Darcy\u2013Weisbach (frictional pressure drop)**:\n",
        "\\[ \\Delta p_{fric} = f \\frac{L}{D} \\frac{\\rho v^2}{2} \\]\n",
        "where \\(v = Q/A\\), \\(A=\\pi D^2/4\\), and we convert units as needed.\n",
        "\n",
        "**Hydrostatic head**:\n",
        "\\[ \\Delta p_{hydro} = \\rho g H \\]\n",
        "\n",
        "In this technical notebook we include sanity checks, dimensional analysis and tests against theoretical limits."
      ]
    },
    {
      "cell_type": "code",
      "execution_count": null,
      "metadata": {},
      "outputs": [],
      "source": [
        "# Imports and plotting defaults\n",
        "import numpy as np\n",
        "import matplotlib.pyplot as plt\n",
        "from pathlib import Path\n",
        "plt.rcParams.update({'figure.dpi': 120, 'font.size': 10})\n",
        "\n",
        "# Try to import petrokit; if not available, inform the user\n",
        "try:\n",
        "    from petrokit import ipr, vlp, flowline, nodal, utils\n",
        "    _PETROKIT_AVAILABLE = True\n",
        "except Exception as e:\n",
        "    _PETROKIT_AVAILABLE = False\n",
        "    _IMPORT_ERROR = e\n",
        "    print('Warning: petrokit not importable in this environment. Please ensure package is installed (pip install -e .)')\n",
        "    print('Import error:', e)\n"
      ]
    },
    {
      "cell_type": "markdown",
      "metadata": {},
      "source": [
        "#### 3. Quick sanity checks and helper wrappers\n",
        "\n",
        "We include small wrappers that validate inputs before calling core functions. These are used throughout the notebook to avoid silent unit errors."
      ]
    },
    {
      "cell_type": "code",
      "execution_count": null,
      "metadata": {},
      "outputs": [],
      "source": [
        "def validate_positive(name, value):\n",
        "    if value is None:\n",
        "        raise ValueError(f'{name} is required')\n",
        "    if isinstance(value, (list, np.ndarray)):\n",
        "        if np.any(np.array(value) <= 0):\n",
        "            raise ValueError(f'{name} must be positive (arrays)')\n",
        "    else:\n",
        "        if value <= 0:\n",
        "            raise ValueError(f'{name} must be positive')\n",
        "\n",
        "def safe_ipr_vogel(p_res, q_max, pwf):\n",
        "    validate_positive('p_res', p_res)\n",
        "    validate_positive('q_max', q_max)\n",
        "    # bound pwf between 0 and p_res\n",
        "    pwf = np.clip(pwf, 0, p_res)\n",
        "    return ipr.vogel_ipr(p_res, q_max, pwf)\n",
        "\n",
        "def safe_vlp_curve(q_range, well_depth, rho, mu, d, f=0.02):\n",
        "    validate_positive('well_depth', well_depth)\n",
        "    validate_positive('rho', rho)\n",
        "    validate_positive('d', d)\n",
        "    return vlp.vlp_curve(q_range, well_depth, rho, mu, d, f)\n"
      ]
    },
    {
      "cell_type": "markdown",
      "metadata": {},
      "source": [
        "### 4. IPR validation and plots\n",
        "\n",
        "We validate the Vogel IPR implementation at boundary conditions and plot the IPR curve."
      ]
    },
    {
      "cell_type": "code",
      "execution_count": null,
      "metadata": {},
      "outputs": [],
      "source": [
        "if _PETROKIT_AVAILABLE:\n",
        "    # Parameters\n",
        "    p_res = 3000.0\n",
        "    q_max = 1200.0\n",
        "    pwf_test = np.array([0.0, p_res/2, p_res])\n",
        "    q_test = [safe_ipr_vogel(p_res, q_max, pwf) for pwf in pwf_test]\n",
        "    print('Vogel IPR checks:')\n",
        "    for pwf, qv in zip(pwf_test, q_test):\n",
        "        print(f'  pwf={pwf:.1f} psi -> q={qv:.3f} STB/d')\n",
        "\n",
        "    # Plot full curve\n",
        "    pwf_arr, q_arr = ipr.ipr_curve_vogel(p_res, q_max, npts=200)\n",
        "    plt.figure(figsize=(6,4))\n",
        "    plt.plot(q_arr, pwf_arr, label='IPR (Vogel)')\n",
        "    plt.scatter([q_max, q_arr[-1]], [0, pwf_arr[-1]], color=['black','red'])\n",
        "    plt.xlabel('q [STB/d]')\n",
        "    plt.ylabel('pwf [psi]')\n",
        "    plt.title('Vogel IPR')\n",
        "    plt.grid(True)\n",
        "    plt.legend()\n",
        "    plt.show()\n",
        "else:\n",
        "    print('Skipping IPR checks \u2014 petrokit not available')\n"
      ]
    },
    {
      "cell_type": "markdown",
      "metadata": {},
      "source": [
        "### 5. VLP (tubing) validation and plots\n",
        "\n",
        "We validate monotonicity and the hydrostatic limit."
      ]
    },
    {
      "cell_type": "code",
      "execution_count": null,
      "metadata": {},
      "outputs": [],
      "source": [
        "if _PETROKIT_AVAILABLE:\n",
        "    q_range = np.linspace(10, q_max*1.2, 120)\n",
        "    pwf_vlp = safe_vlp_curve(q_range, well_depth, rho, mu, d)\n",
        "    # monotonic check\n",
        "    monotonic = np.all(np.diff(pwf_vlp) > -1e-6)\n",
        "    print('VLP monotonic (non-decreasing):', monotonic)\n",
        "    # Hydrostatic approx at very low q\n",
        "    pwf_low = safe_vlp_curve(np.array([1e-6]), well_depth, rho, mu, d)[0]\n",
        "    p_hydro = (rho/144.0) * well_depth\n",
        "    print(f'P_hydro (approx) = {p_hydro:.2f} psi; pwf_low = {pwf_low:.2f} psi')\n",
        "\n",
        "    plt.figure(figsize=(6,4))\n",
        "    plt.plot(q_range, pwf_vlp, label='VLP (Darcy-Weisbach)')\n",
        "    plt.xlabel('q [STB/d]')\n",
        "    plt.ylabel('pwf [psi]')\n",
        "    plt.title('VLP (tubing)')\n",
        "    plt.grid(True)\n",
        "    plt.legend()\n",
        "    plt.show()\n",
        "else:\n",
        "    print('Skipping VLP checks \u2014 petrokit not available')\n"
      ]
    },
    {
      "cell_type": "markdown",
      "metadata": {},
      "source": [
        "### 6. Flowline (surface) validation and plots\n",
        "\n",
        "We compute flowline \u0394P vs q, and visualize the effect of diameter and elevation."
      ]
    },
    {
      "cell_type": "code",
      "execution_count": null,
      "metadata": {},
      "outputs": [],
      "source": [
        "if _PETROKIT_AVAILABLE:\n",
        "    q_test = np.linspace(10, 5000, 80)\n",
        "    dp = [flowline.flowline_pressure_drop(q, L=10000, d=6, rho=55, mu=1, elev=200) for q in q_test]\n",
        "    plt.figure(figsize=(6,4))\n",
        "    plt.plot(q_test, dp, label='\u0394P flowline')\n",
        "    plt.xlabel('q [STB/d]')\n",
        "    plt.ylabel('\u0394P [psi]')\n",
        "    plt.title('Flowline \u0394P vs q')\n",
        "    plt.grid(True)\n",
        "    plt.legend()\n",
        "    plt.show()\n",
        "else:\n",
        "    print('Skipping flowline checks \u2014 petrokit not available')\n"
      ]
    },
    {
      "cell_type": "markdown",
      "metadata": {},
      "source": [
        "### 7. Nodal analysis \u2014 robust intersection\n",
        "\n",
        "Instead of relying on simple interpolation, we provide a robust root\u2011finding approach which minimizes |IPR(q) - VLP(q)| over q (direct in q space). This avoids interpolation artifacts when IPR and VLP are defined on different axes."
      ]
    },
    {
      "cell_type": "code",
      "execution_count": null,
      "metadata": {},
      "outputs": [],
      "source": [
        "if _PETROKIT_AVAILABLE:\n",
        "    from scipy.optimize import minimize_scalar\n",
        "\n",
        "    # Define objective: absolute difference between IPR(q) and q (from inverted VLP)\n",
        "    def find_q_op(p_res, q_max, well_depth, rho, mu, d):\n",
        "        qmin = 1.0\n",
        "        qmax_search = max(1.2*q_max, 5000)\n",
        "        def objective(q):\n",
        "            # IPR gives q for a pwf; invert IPR numerically by computing pwf that gives q??\n",
        "            # Simpler: compute pwf_vlp(q) and q_ipr(pwf_vlp).\n",
        "            pwf_v = vlp.vlp_curve(np.array([q]), well_depth, rho, mu, d)[0]\n",
        "            q_from_ipr = ipr.vogel_ipr(p_res, q_max, pwf_v)\n",
        "            return abs(q - q_from_ipr)\n",
        "\n",
        "        res = minimize_scalar(objective, bounds=(qmin, qmax_search), method='bounded')\n",
        "        if not res.success:\n",
        "            raise RuntimeError('Optimization failed to find q_op')\n",
        "        return res.x, vlp.vlp_curve(np.array([res.x]), well_depth, rho, mu, d)[0]\n",
        "\n",
        "    q_op_opt, pwf_op_opt = find_q_op(p_res, q_max, well_depth, rho, mu, d)\n",
        "    print(f'Optimized Q_op = {q_op_opt:.2f} STB/d, pwf_op = {pwf_op_opt:.2f} psi')\n",
        "    # Also show previous grid nodal for cross-check\n",
        "    q_grid, pwf_grid = np.linspace(1, max(1.2*q_max,5000), 200), None\n",
        "    q_ipr_grid = np.array([ipr.vogel_ipr(p_res, q_max, vlp.vlp_curve(np.array([q]), well_depth, rho, mu, d)[0]) for q in q_grid])\n",
        "    pwf_vlp_grid = vlp.vlp_curve(q_grid, well_depth, rho, mu, d)\n",
        "\n",
        "    plt.figure(figsize=(7,6))\n",
        "    plt.plot(q_ipr_grid, np.linspace(0, p_res, len(q_ipr_grid)), label='IPR via mapping', color='blue')\n",
        "    plt.plot(q_grid, pwf_vlp_grid, label='VLP', color='red')\n",
        "    plt.scatter([q_op_opt], [pwf_op_opt], color='green', s=80, label='Optimized Q_op')\n",
        "    plt.xlabel('q [STB/d]')\n",
        "    plt.ylabel('pwf [psi]')\n",
        "    plt.title('Nodal analysis (robust optimization)')\n",
        "    plt.legend()\n",
        "    plt.grid(True)\n",
        "    plt.show()\n",
        "else:\n",
        "    print('Skipping robust nodal analysis \u2014 petrokit not available or scipy missing')\n"
      ]
    },
    {
      "cell_type": "markdown",
      "metadata": {},
      "source": [
        "### 8. Sensitivity studies & parametric sweeps\n",
        "\n",
        "We run a set of parametric sweeps to illustrate the effect of:  \n",
        "- Tubing diameter  \n",
        "- Reservoir pressure `p_res`  \n",
        "- Fluid density  \n",
        "\n",
        "Results are organized into tabular outputs and summary plots."
      ]
    },
    {
      "cell_type": "code",
      "execution_count": null,
      "metadata": {},
      "outputs": [],
      "source": [
        "if _PETROKIT_AVAILABLE:\n",
        "    diameters = [2.992, 3.5, 4.5, 6.0]  # in\n",
        "    p_res_values = [2500, 3000, 3500]\n",
        "    results = []\n",
        "    for d_test in diameters:\n",
        "        q_op_list = []\n",
        "        for pres in p_res_values:\n",
        "            try:\n",
        "                qop, pwfop = find_q_op(pres, q_max, well_depth, rho, mu, d_test)\n",
        "            except Exception:\n",
        "                qop, pwfop = np.nan, np.nan\n",
        "            q_op_list.append(qop)\n",
        "        results.append(q_op_list)\n",
        "\n",
        "    # Plot results\n",
        "    plt.figure(figsize=(7,5))\n",
        "    for idx, d_test in enumerate(diameters):\n",
        "        plt.plot(p_res_values, results[idx], marker='o', label=f'D={d_test}\\\"')\n",
        "    plt.xlabel('p_res [psi]')\n",
        "    plt.ylabel('Q_op [STB/d]')\n",
        "    plt.title('Sensitivity: Q_op vs p_res for different tubing diameters')\n",
        "    plt.grid(True)\n",
        "    plt.legend()\n",
        "    plt.show()\n",
        "else:\n",
        "    print('Skipping sensitivity studies \u2014 petrokit not available')\n"
      ]
    },
    {
      "cell_type": "markdown",
      "metadata": {},
      "source": [
        "### 9. Export results & figures\n",
        "\n",
        "We store the summary table and export the main figure for use in reports."
      ]
    },
    {
      "cell_type": "code",
      "execution_count": null,
      "metadata": {},
      "outputs": [],
      "source": [
        "if _PETROKIT_AVAILABLE:\n",
        "    out_dir = Path('output')\n",
        "    out_dir.mkdir(exist_ok=True)\n",
        "    import csv\n",
        "    summary_csv = out_dir / 'nodal_summary.csv'\n",
        "    with open(summary_csv, 'w', newline='') as csvfile:\n",
        "        writer = csv.writer(csvfile)\n",
        "        writer.writerow(['diameter_in', 'p_res', 'q_op_stb_d', 'pwf_psi'])\n",
        "        for i, d_test in enumerate(diameters):\n",
        "            for j, pres in enumerate(p_res_values):\n",
        "                writer.writerow([d_test, pres, results[i][j], ''])\n",
        "    print('Wrote summary to', summary_csv)\n",
        "    # Save last figure\n",
        "    fig_path = out_dir / 'nodal_sensitivity.png'\n",
        "    plt.savefig(fig_path, bbox_inches='tight')\n",
        "    print('Saved figure to', fig_path)\n",
        "else:\n",
        "    print('Skipping export \u2014 petrokit not available')\n"
      ]
    },
    {
      "cell_type": "markdown",
      "metadata": {},
      "source": [
        "----\n",
        "## Appendix: References and further reading\n",
        "\n",
        "- Vogel, J. R. (1968). \"Electrostatic phenomena in petroleum production\" (classic IPR reference).  \n",
        "- Beggs, Hagedorn & Brown \u2014 correlations for multiphase flow in wells and pipelines.  \n",
        "- White, F. M. \u2014 Fluid Mechanics (Darcy\u2013Weisbach background).  \n",
        "\n",
        "----\n",
        "End of notebook."
      ]
    }
  ],
  "metadata": {
    "kernelspec": {
      "display_name": "Python 3",
      "language": "python",
      "name": "python3"
    },
    "language_info": {
      "name": "python",
      "version": "3.11"
    }
  },
  "nbformat": 4,
  "nbformat_minor": 5
}